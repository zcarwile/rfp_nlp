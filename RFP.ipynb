{
 "cells": [
  {
   "cell_type": "code",
   "execution_count": 3,
   "metadata": {
    "collapsed": true
   },
   "outputs": [],
   "source": [
    "import json\n",
    "from os.path import join, dirname\n",
    "from watson_developer_cloud import DocumentConversionV1\n",
    "from watson_developer_cloud import AlchemyLanguageV1"
   ]
  },
  {
   "cell_type": "code",
   "execution_count": 4,
   "metadata": {
    "collapsed": false
   },
   "outputs": [],
   "source": [
    "doc = \"Dove.docx\"\n",
    "dir = !pwd"
   ]
  },
  {
   "cell_type": "code",
   "execution_count": 5,
   "metadata": {
    "collapsed": true
   },
   "outputs": [],
   "source": [
    "credentials = {\n",
    "    \"url\": \"https://gateway.watsonplatform.net/document-conversion/api\",\n",
    "    \"password\": \"tQDOCgBzcC0K\",\n",
    "    \"username\": \"1a238d8d-f4d7-45eb-a5b5-2e1ff2ba8797\",\n",
    "}\n",
    "\n",
    "api_key = \"568d7754d14e108c87191b14bb23bec6623eee8a\""
   ]
  },
  {
   "cell_type": "code",
   "execution_count": 6,
   "metadata": {
    "collapsed": false
   },
   "outputs": [],
   "source": [
    "document_conversion = DocumentConversionV1(\n",
    "    username=credentials.get('username'),\n",
    "    password=credentials.get('password'),\n",
    "    version='2016-06-30')"
   ]
  },
  {
   "cell_type": "code",
   "execution_count": 7,
   "metadata": {
    "collapsed": false
   },
   "outputs": [],
   "source": [
    "with open(join(dir[0], doc), 'rb') as document:\n",
    "    config = {'conversion_target': DocumentConversionV1.ANSWER_UNITS}\n",
    "    output = document_conversion.convert_document(document=document, config=config)\n",
    "    #print(json.dumps(output, indent=2))"
   ]
  },
  {
   "cell_type": "code",
   "execution_count": 8,
   "metadata": {
    "collapsed": false
   },
   "outputs": [
    {
     "name": "stdout",
     "output_type": "stream",
     "text": [
      "  August 31, 2015   Potential Partner,   Your property has been selected for consideration in the 2015 Dove Hair/Emoji media planning process. This document outlines general information regarding Dove Hair , our campaign objectives, as well as what is required when submitting your proposal.   Your submission must address two tracks, delivering on campaign objectives as well as delivering on implementation logistics. Please pay close attention to implementation logistics and clearly address in your proposal submission.   INABILITY TO COMPLY WITH SECTION A REQUIREMENTS WILL PREVENT CONSIDERATION OF YOUR PROPERTY. Please address all requirements in your RFP response.   SECTION A: IMPLEMENTATION REQUIREMENTS   Viewability Viewability is a priority for all digital advertising we are contractually obligated to pay for. We expect to pay for impressions that are seen by people, nothing less.   Our standards exceed MRC minimum thresholds.   Banners: 100% in view, no exceptions Video: Player is 100% in view, user-initiated, sound on with at least 50% of the video played through.   Your submission must agree with our standards and/or certainly address your ability to comply and operationalize. Failure to do so will compromise our ability to move forward.   Custom Addendums/Cancellation Terms Custom addendums must be shared at the time of proposal submission Non-cancellable dollar intentions must be shared with proposal submission; itemize by placement, total non-cancellable and percentage of total media spend If these terms are not addressed, we assume standard cancellation clauses. Mindshare cannot honor non-cancellable or custom addendum needs if they are not addressed at time of proposal submission.  \n",
      "\n",
      "\n",
      "Leverage Curl Communities and Curly Influencers Align with contextually relevant content: Beauty, Pop culture, Pop culture/ Entertainment Tech, Lifestyle, Inspirational, Entertainment News Earned Media: Fun and engaging tactics to make media shareable are not only welcome, but highly encouraged Must be mobile heavy elements in the proposal All media will drive to download the keyboard or stickers Campaign Metrics: KPI: Awareness Measure of Success: Message Association (Millward Brown AdIndex DASHBoard) Optimization Metrics that will determine success: Brand Awareness: Millward Brown (MBD Dynamic Logic) % in-target demographic: Nielsen OCR Viewability: Integral AdScience and/or Moat (by exception)\n",
      "\n",
      "\n"
     ]
    }
   ],
   "source": [
    "blocks = []\n",
    "for au in output.get('answer_units'):\n",
    "    au_text = au.get('content')[0].get('text')\n",
    "    if \"viewab\" in au_text.lower():\n",
    "        print(au_text)\n",
    "        print('\\n')\n",
    "        blocks.append(au_text)"
   ]
  },
  {
   "cell_type": "code",
   "execution_count": 13,
   "metadata": {
    "collapsed": false
   },
   "outputs": [],
   "source": [
    "alchemy_language = AlchemyLanguageV1(api_key=api_key)\n",
    "combined_operations = ['page-image', 'entity', 'keyword', 'title', 'author', 'taxonomy', 'concept', 'doc-emotion','quantity']"
   ]
  },
  {
   "cell_type": "code",
   "execution_count": 16,
   "metadata": {
    "collapsed": false
   },
   "outputs": [
    {
     "name": "stdout",
     "output_type": "stream",
     "text": [
      "  August 31, 2015   Potential Partner,   Your property has been selected for consideration in the 2015 Dove Hair/Emoji media planning process. This document outlines general information regarding Dove Hair , our campaign objectives, as well as what is required when submitting your proposal.   Your submission must address two tracks, delivering on campaign objectives as well as delivering on implementation logistics. Please pay close attention to implementation logistics and clearly address in your proposal submission.   INABILITY TO COMPLY WITH SECTION A REQUIREMENTS WILL PREVENT CONSIDERATION OF YOUR PROPERTY. Please address all requirements in your RFP response.   SECTION A: IMPLEMENTATION REQUIREMENTS   Viewability Viewability is a priority for all digital advertising we are contractually obligated to pay for. We expect to pay for impressions that are seen by people, nothing less.   Our standards exceed MRC minimum thresholds.   Banners: 100% in view, no exceptions Video: Player is 100% in view, user-initiated, sound on with at least 50% of the video played through.   Your submission must agree with our standards and/or certainly address your ability to comply and operationalize. Failure to do so will compromise our ability to move forward.   Custom Addendums/Cancellation Terms Custom addendums must be shared at the time of proposal submission Non-cancellable dollar intentions must be shared with proposal submission; itemize by placement, total non-cancellable and percentage of total media spend If these terms are not addressed, we assume standard cancellation clauses. Mindshare cannot honor non-cancellable or custom addendum needs if they are not addressed at time of proposal submission.  \n",
      "Entities:\n",
      "{'type': 'Person', 'count': '1', 'text': 'Viewability Viewability', 'relevance': '0.92912'}\n",
      "{'type': 'Company', 'disambiguated': {'name': 'MindShare', 'dbpedia': 'http://dbpedia.org/resource/MindShare', 'freebase': 'http://rdf.freebase.com/ns/m.0465t24'}, 'count': '1', 'text': 'Mindshare', 'relevance': '0.596066'}\n",
      "{'type': 'JobTitle', 'count': '1', 'text': 'Partner', 'relevance': '0.566629'}\n",
      "{'type': 'FieldTerminology', 'count': '1', 'text': 'digital advertising', 'relevance': '0.505335'}\n",
      "{'type': 'Quantity', 'count': '2', 'text': '100%', 'relevance': '0.505335'}\n",
      "{'type': 'Quantity', 'count': '1', 'text': '50%', 'relevance': '0.505335'}\n",
      "Keyword:\n",
      "{'relevance': '0.989546', 'text': 'proposal submission'}\n",
      "{'relevance': '0.843876', 'text': 'REQUIREMENTS \\xa0 Viewability Viewability'}\n",
      "{'relevance': '0.772917', 'text': 'campaign objectives'}\n",
      "{'relevance': '0.766459', 'text': 'Dove Hair/Emoji media'}\n",
      "{'relevance': '0.731571', 'text': 'pay close attention'}\n",
      "{'relevance': '0.724626', 'text': 'implementation logistics'}\n",
      "{'relevance': '0.716274', 'text': 'MRC minimum thresholds'}\n",
      "{'relevance': '0.695663', 'text': 'standard cancellation clauses'}\n",
      "{'relevance': '0.677273', 'text': 'Non-cancellable dollar intentions'}\n",
      "{'relevance': '0.674734', 'text': 'custom addendum needs'}\n",
      "{'relevance': '0.658141', 'text': 'Custom Addendums/Cancellation Terms'}\n",
      "{'relevance': '0.49972', 'text': 'general information'}\n",
      "{'relevance': '0.499709', 'text': 'Potential Partner'}\n",
      "{'relevance': '0.488088', 'text': 'RFP response'}\n",
      "{'relevance': '0.465369', 'text': 'exceptions Video'}\n",
      "{'relevance': '0.465041', 'text': 'digital advertising'}\n",
      "{'relevance': '0.440385', 'text': 'total media'}\n",
      "{'relevance': '0.341025', 'text': 'consideration'}\n",
      "{'relevance': '0.29672', 'text': 'property'}\n",
      "{'relevance': '0.290534', 'text': 'SECTION'}\n",
      "{'relevance': '0.286794', 'text': 'standards'}\n",
      "{'relevance': '0.276153', 'text': 'time'}\n",
      "{'relevance': '0.26919', 'text': 'INABILITY'}\n",
      "{'relevance': '0.269123', 'text': 'Mindshare'}\n",
      "{'relevance': '0.251908', 'text': 'priority'}\n",
      "{'relevance': '0.251783', 'text': 'percentage'}\n",
      "{'relevance': '0.250895', 'text': 'process'}\n",
      "{'relevance': '0.250473', 'text': 'document'}\n",
      "{'relevance': '0.249885', 'text': 'impressions'}\n",
      "{'relevance': '0.247095', 'text': 'tracks'}\n",
      "{'relevance': '0.246277', 'text': 'people'}\n",
      "{'relevance': '0.24312', 'text': 'address'}\n",
      "{'relevance': '0.243048', 'text': 'Banners'}\n",
      "-----\n",
      "\n",
      "Leverage Curl Communities and Curly Influencers Align with contextually relevant content: Beauty, Pop culture, Pop culture/ Entertainment Tech, Lifestyle, Inspirational, Entertainment News Earned Media: Fun and engaging tactics to make media shareable are not only welcome, but highly encouraged Must be mobile heavy elements in the proposal All media will drive to download the keyboard or stickers Campaign Metrics: KPI: Awareness Measure of Success: Message Association (Millward Brown AdIndex DASHBoard) Optimization Metrics that will determine success: Brand Awareness: Millward Brown (MBD Dynamic Logic) % in-target demographic: Nielsen OCR Viewability: Integral AdScience and/or Moat (by exception)\n",
      "Entities:\n",
      "{'type': 'Organization', 'count': '1', 'text': 'Message Association', 'relevance': '0.33'}\n",
      "{'type': 'Person', 'count': '2', 'text': 'Millward Brown', 'relevance': '0.33'}\n",
      "Keyword:\n",
      "{'relevance': '0.877318', 'text': 'contextually relevant content'}\n",
      "{'relevance': '0.872782', 'text': 'Nielsen OCR Viewability'}\n",
      "{'relevance': '0.872141', 'text': 'stickers Campaign Metrics'}\n",
      "{'relevance': '0.870356', 'text': 'Curly Influencers Align'}\n",
      "{'relevance': '0.869602', 'text': 'Leverage Curl Communities'}\n",
      "{'relevance': '0.825436', 'text': 'News Earned Media'}\n",
      "{'relevance': '0.815448', 'text': 'MBD Dynamic Logic'}\n",
      "{'relevance': '0.78557', 'text': 'Pop culture/ Entertainment'}\n",
      "{'relevance': '0.763355', 'text': 'mobile heavy elements'}\n",
      "{'relevance': '0.63551', 'text': 'Optimization Metrics'}\n",
      "{'relevance': '0.585635', 'text': 'AdIndex DASHBoard'}\n",
      "{'relevance': '0.565016', 'text': 'Awareness Measure'}\n",
      "{'relevance': '0.55616', 'text': 'Integral AdScience'}\n",
      "{'relevance': '0.541857', 'text': 'Brand Awareness'}\n",
      "{'relevance': '0.40283', 'text': 'KPI'}\n",
      "{'relevance': '0.399868', 'text': 'Moat'}\n",
      "{'relevance': '0.368151', 'text': 'exception'}\n",
      "{'relevance': '0.358547', 'text': 'proposal'}\n",
      "{'relevance': '0.355496', 'text': 'success'}\n",
      "{'relevance': '0.352441', 'text': 'tactics'}\n",
      "{'relevance': '0.350626', 'text': 'keyboard'}\n",
      "{'relevance': '0.349723', 'text': 'Inspirational'}\n",
      "{'relevance': '0.347413', 'text': 'Lifestyle'}\n",
      "{'relevance': '0.339414', 'text': 'Beauty'}\n",
      "{'relevance': '0.339078', 'text': 'Tech'}\n",
      "-----\n",
      "\n"
     ]
    }
   ],
   "source": [
    "for block in blocks:\n",
    "    print(block)\n",
    "    output = alchemy_language.combined(text=block, extract=combined_operations)\n",
    "    print(\"Entities:\")\n",
    "    for entity in output.get('entities'):\n",
    "        print(entity)\n",
    "    print(\"Keyword:\")\n",
    "    for keyword in output.get('keywords'):\n",
    "        print(keyword)\n",
    "    print(\"-----\\n\")"
   ]
  }
 ],
 "metadata": {
  "kernelspec": {
   "display_name": "Python [anaconda34]",
   "language": "python",
   "name": "Python [anaconda34]"
  },
  "language_info": {
   "codemirror_mode": {
    "name": "ipython",
    "version": 3
   },
   "file_extension": ".py",
   "mimetype": "text/x-python",
   "name": "python",
   "nbconvert_exporter": "python",
   "pygments_lexer": "ipython3",
   "version": "3.4.5"
  }
 },
 "nbformat": 4,
 "nbformat_minor": 0
}
