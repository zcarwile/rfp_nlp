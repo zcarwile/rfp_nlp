{
 "cells": [
  {
   "cell_type": "code",
   "execution_count": null,
   "metadata": {
    "collapsed": true
   },
   "outputs": [],
   "source": [
    "import json\n",
    "from os.path import join, dirname\n",
    "from os import listdir\n",
    "import re\n",
    "import pandas as pd\n",
    "\n",
    "from watson_developer_cloud import DocumentConversionV1\n",
    "from watson_developer_cloud import AlchemyLanguageV1"
   ]
  },
  {
   "cell_type": "code",
   "execution_count": null,
   "metadata": {
    "collapsed": false
   },
   "outputs": [],
   "source": [
    "doc = \"Dove.docx\"\n",
    "tmp = !pwd\n",
    "dir = tmp[0] \n",
    "\n",
    "formats = ['doc','docx','pdf']"
   ]
  },
  {
   "cell_type": "code",
   "execution_count": null,
   "metadata": {
    "collapsed": true
   },
   "outputs": [],
   "source": [
    "credentials = {\n",
    "    \"url\": \"https://gateway.watsonplatform.net/document-conversion/api\",\n",
    "    \"password\": \"tQDOCgBzcC0K\",\n",
    "    \"username\": \"1a238d8d-f4d7-45eb-a5b5-2e1ff2ba8797\",\n",
    "}\n",
    "\n",
    "api_key = \"568d7754d14e108c87191b14bb23bec6623eee8a\""
   ]
  },
  {
   "cell_type": "code",
   "execution_count": null,
   "metadata": {
    "collapsed": false
   },
   "outputs": [],
   "source": [
    "document_conversion = DocumentConversionV1(\n",
    "    username=credentials.get('username'),\n",
    "    password=credentials.get('password'),\n",
    "    version='2016-06-30')"
   ]
  },
  {
   "cell_type": "code",
   "execution_count": null,
   "metadata": {
    "collapsed": false
   },
   "outputs": [],
   "source": [
    "alchemy_language = AlchemyLanguageV1(api_key=api_key)\n",
    "combined_operations = ['page-image', 'entity', 'keyword', 'title', 'author', 'taxonomy', 'concept', 'doc-emotion','quantity']"
   ]
  },
  {
   "cell_type": "code",
   "execution_count": null,
   "metadata": {
    "collapsed": false
   },
   "outputs": [],
   "source": [
    "def xConvert(doc):\n",
    "\n",
    "    with open(join(dir, doc), 'rb') as document:\n",
    "        config = {'conversion_target': DocumentConversionV1.ANSWER_UNITS}\n",
    "        output = document_conversion.convert_document(document=document, config=config)\n",
    "        #print(json.dumps(output, indent=2))\n",
    "    \n",
    "    return output\n",
    "\n",
    "output = xConvert(doc)"
   ]
  },
  {
   "cell_type": "code",
   "execution_count": null,
   "metadata": {
    "collapsed": false
   },
   "outputs": [],
   "source": [
    "def xFilter(output):\n",
    "\n",
    "    blocks = []\n",
    "    for au in output.get('answer_units'):\n",
    "        au_text = au.get('content')[0].get('text')\n",
    "        if \"viewab\" in au_text.lower():\n",
    "            #print(au_text)\n",
    "            #print('\\n')\n",
    "            blocks.append(au_text)\n",
    "    \n",
    "    return blocks\n",
    "\n",
    "blocks = xFilter(output)"
   ]
  },
  {
   "cell_type": "code",
   "execution_count": null,
   "metadata": {
    "collapsed": false
   },
   "outputs": [],
   "source": [
    "table = pd.DataFrame(columns=['document','valid','left context','quantity','right context','snippet'])\n",
    "i = 0\n",
    "\n",
    "for doc in listdir(dir):\n",
    "    \n",
    "    ext = doc.split(\".\")[-1]\n",
    "    if ext not in formats:\n",
    "        print(\"Unsupported format: %s\" % (doc))\n",
    "        continue\n",
    "    \n",
    "    output = xConvert(doc)\n",
    "    blocks = xFilter(output)\n",
    "    \n",
    "    for block in blocks:\n",
    "        output = alchemy_language.combined(text=block, extract=combined_operations)\n",
    "        for entity in output.get('entities'):\n",
    "            if entity.get('type') == 'Quantity':\n",
    "                covered_text = entity.get('text')\n",
    "                left_context = ''\n",
    "                right_context = ''\n",
    "                for m in re.finditer(covered_text, block):\n",
    "                    start = m.start()\n",
    "                    end = m.end()\n",
    "                    if start >= 50:\n",
    "                        left_context = block[start-50:start]\n",
    "                    else:\n",
    "                        left_context = block[:start]\n",
    "                    end = start + len(covered_text)\n",
    "                    if len(block) - end >= 50:\n",
    "                        right_context = block[end:end+50]\n",
    "                    else:\n",
    "                        right_context = block[end:] \n",
    "                i = i + 1\n",
    "                table.loc[i] = [doc,'',left_context, covered_text, right_context,block]\n",
    "        \n",
    "table.to_csv(join(dir, 'table.csv'))"
   ]
  },
  {
   "cell_type": "code",
   "execution_count": null,
   "metadata": {
    "collapsed": false
   },
   "outputs": [],
   "source": [
    "table.head(10)"
   ]
  },
  {
   "cell_type": "code",
   "execution_count": null,
   "metadata": {
    "collapsed": true
   },
   "outputs": [],
   "source": []
  }
 ],
 "metadata": {
  "kernelspec": {
   "display_name": "Python [anaconda34]",
   "language": "python",
   "name": "Python [anaconda34]"
  },
  "language_info": {
   "codemirror_mode": {
    "name": "ipython",
    "version": 3
   },
   "file_extension": ".py",
   "mimetype": "text/x-python",
   "name": "python",
   "nbconvert_exporter": "python",
   "pygments_lexer": "ipython3",
   "version": "3.4.5"
  }
 },
 "nbformat": 4,
 "nbformat_minor": 0
}
