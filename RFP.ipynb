{
 "cells": [
  {
   "cell_type": "code",
   "execution_count": 1,
   "metadata": {
    "collapsed": true
   },
   "outputs": [],
   "source": [
    "import json\n",
    "from os.path import join, dirname\n",
    "from os import listdir\n",
    "import re\n",
    "import pandas as pd\n",
    "\n",
    "from watson_developer_cloud import DocumentConversionV1\n",
    "from watson_developer_cloud import AlchemyLanguageV1"
   ]
  },
  {
   "cell_type": "code",
   "execution_count": 19,
   "metadata": {
    "collapsed": false
   },
   "outputs": [],
   "source": [
    "doc = \"Dove.docx\"\n",
    "tmp = !pwd\n",
    "dir = tmp[0] \n",
    "\n",
    "formats = ['doc','docx','pdf']"
   ]
  },
  {
   "cell_type": "code",
   "execution_count": 10,
   "metadata": {
    "collapsed": true
   },
   "outputs": [],
   "source": [
    "credentials = {\n",
    "    \"url\": \"https://gateway.watsonplatform.net/document-conversion/api\",\n",
    "    \"password\": \"tQDOCgBzcC0K\",\n",
    "    \"username\": \"1a238d8d-f4d7-45eb-a5b5-2e1ff2ba8797\",\n",
    "}\n",
    "\n",
    "api_key = \"568d7754d14e108c87191b14bb23bec6623eee8a\""
   ]
  },
  {
   "cell_type": "code",
   "execution_count": 11,
   "metadata": {
    "collapsed": false
   },
   "outputs": [],
   "source": [
    "document_conversion = DocumentConversionV1(\n",
    "    username=credentials.get('username'),\n",
    "    password=credentials.get('password'),\n",
    "    version='2016-06-30')"
   ]
  },
  {
   "cell_type": "code",
   "execution_count": 12,
   "metadata": {
    "collapsed": false
   },
   "outputs": [],
   "source": [
    "alchemy_language = AlchemyLanguageV1(api_key=api_key)\n",
    "combined_operations = ['page-image', 'entity', 'keyword', 'title', 'author', 'taxonomy', 'concept', 'doc-emotion','quantity']"
   ]
  },
  {
   "cell_type": "code",
   "execution_count": 13,
   "metadata": {
    "collapsed": false
   },
   "outputs": [],
   "source": [
    "def xConvert(doc):\n",
    "\n",
    "    with open(join(dir, doc), 'rb') as document:\n",
    "        config = {'conversion_target': DocumentConversionV1.ANSWER_UNITS}\n",
    "        output = document_conversion.convert_document(document=document, config=config)\n",
    "        #print(json.dumps(output, indent=2))\n",
    "    \n",
    "    return output\n",
    "\n",
    "output = xConvert(doc)"
   ]
  },
  {
   "cell_type": "code",
   "execution_count": 30,
   "metadata": {
    "collapsed": false
   },
   "outputs": [
    {
     "ename": "TypeError",
     "evalue": "'NoneType' object is not iterable",
     "output_type": "error",
     "traceback": [
      "\u001b[0;31m---------------------------------------------------------------------------\u001b[0m",
      "\u001b[0;31mTypeError\u001b[0m                                 Traceback (most recent call last)",
      "\u001b[0;32m<ipython-input-30-abc5c591e3f3>\u001b[0m in \u001b[0;36m<module>\u001b[0;34m()\u001b[0m\n\u001b[1;32m     11\u001b[0m     \u001b[0;32mreturn\u001b[0m \u001b[0mblocks\u001b[0m\u001b[0;34m\u001b[0m\u001b[0m\n\u001b[1;32m     12\u001b[0m \u001b[0;34m\u001b[0m\u001b[0m\n\u001b[0;32m---> 13\u001b[0;31m \u001b[0mblocks\u001b[0m \u001b[0;34m=\u001b[0m \u001b[0mxFilter\u001b[0m\u001b[0;34m(\u001b[0m\u001b[0moutput\u001b[0m\u001b[0;34m)\u001b[0m\u001b[0;34m\u001b[0m\u001b[0m\n\u001b[0m",
      "\u001b[0;32m<ipython-input-30-abc5c591e3f3>\u001b[0m in \u001b[0;36mxFilter\u001b[0;34m(output)\u001b[0m\n\u001b[1;32m      2\u001b[0m \u001b[0;34m\u001b[0m\u001b[0m\n\u001b[1;32m      3\u001b[0m     \u001b[0mblocks\u001b[0m \u001b[0;34m=\u001b[0m \u001b[0;34m[\u001b[0m\u001b[0;34m]\u001b[0m\u001b[0;34m\u001b[0m\u001b[0m\n\u001b[0;32m----> 4\u001b[0;31m     \u001b[0;32mfor\u001b[0m \u001b[0mau\u001b[0m \u001b[0;32min\u001b[0m \u001b[0moutput\u001b[0m\u001b[0;34m.\u001b[0m\u001b[0mget\u001b[0m\u001b[0;34m(\u001b[0m\u001b[0;34m'answer_units'\u001b[0m\u001b[0;34m)\u001b[0m\u001b[0;34m:\u001b[0m\u001b[0;34m\u001b[0m\u001b[0m\n\u001b[0m\u001b[1;32m      5\u001b[0m         \u001b[0mau_text\u001b[0m \u001b[0;34m=\u001b[0m \u001b[0mau\u001b[0m\u001b[0;34m.\u001b[0m\u001b[0mget\u001b[0m\u001b[0;34m(\u001b[0m\u001b[0;34m'content'\u001b[0m\u001b[0;34m)\u001b[0m\u001b[0;34m[\u001b[0m\u001b[0;36m0\u001b[0m\u001b[0;34m]\u001b[0m\u001b[0;34m.\u001b[0m\u001b[0mget\u001b[0m\u001b[0;34m(\u001b[0m\u001b[0;34m'text'\u001b[0m\u001b[0;34m)\u001b[0m\u001b[0;34m\u001b[0m\u001b[0m\n\u001b[1;32m      6\u001b[0m         \u001b[0;32mif\u001b[0m \u001b[0;34m\"viewab\"\u001b[0m \u001b[0;32min\u001b[0m \u001b[0mau_text\u001b[0m\u001b[0;34m.\u001b[0m\u001b[0mlower\u001b[0m\u001b[0;34m(\u001b[0m\u001b[0;34m)\u001b[0m\u001b[0;34m:\u001b[0m\u001b[0;34m\u001b[0m\u001b[0m\n",
      "\u001b[0;31mTypeError\u001b[0m: 'NoneType' object is not iterable"
     ]
    }
   ],
   "source": [
    "def xFilter(output):\n",
    "\n",
    "    blocks = []\n",
    "    for au in output.get('answer_units'):\n",
    "        au_text = au.get('content')[0].get('text')\n",
    "        if \"viewab\" in au_text.lower():\n",
    "            #print(au_text)\n",
    "            #print('\\n')\n",
    "            blocks.append(au_text)\n",
    "    \n",
    "    return blocks\n",
    "\n",
    "blocks = xFilter(output)"
   ]
  },
  {
   "cell_type": "code",
   "execution_count": 35,
   "metadata": {
    "collapsed": false
   },
   "outputs": [
    {
     "name": "stdout",
     "output_type": "stream",
     "text": [
      "Unsupported format: .DS_Store\n",
      "Unsupported format: .git\n",
      "Unsupported format: .ipynb_checkpoints\n",
      "Unsupported format: python_environment.yml\n",
      "Unsupported format: RFP.ipynb\n",
      "Unsupported format: table.csv\n"
     ]
    }
   ],
   "source": [
    "table = pd.DataFrame(columns=['document','valid','left context','quantity','right context','snippet'])\n",
    "i = 0\n",
    "\n",
    "for doc in listdir(dir):\n",
    "    \n",
    "    ext = doc.split(\".\")[-1]\n",
    "    if ext not in formats:\n",
    "        print(\"Unsupported format: %s\" % (doc))\n",
    "        continue\n",
    "    \n",
    "    output = xConvert(doc)\n",
    "    blocks = xFilter(output)\n",
    "    \n",
    "    for block in blocks:\n",
    "        output = alchemy_language.combined(text=block, extract=combined_operations)\n",
    "        for entity in output.get('entities'):\n",
    "            if entity.get('type') == 'Quantity':\n",
    "                covered_text = entity.get('text')\n",
    "                left_context = ''\n",
    "                right_context = ''\n",
    "                for m in re.finditer(covered_text, block):\n",
    "                    start = m.start()\n",
    "                    end = m.end()\n",
    "                    if start >= 50:\n",
    "                        left_context = block[start-50:start]\n",
    "                    else:\n",
    "                        left_context = block[:start]\n",
    "                    end = start + len(covered_text)\n",
    "                    if len(block) - end >= 50:\n",
    "                        right_context = block[end:end+50]\n",
    "                    else:\n",
    "                        right_context = block[end:] \n",
    "                i = i + 1\n",
    "                table.loc[i] = [doc,'',left_context, covered_text, right_context,block]\n",
    "        \n",
    "table.to_csv(join(dir, 'table.csv'))"
   ]
  },
  {
   "cell_type": "code",
   "execution_count": 36,
   "metadata": {
    "collapsed": false
   },
   "outputs": [
    {
     "data": {
      "text/html": [
       "<div>\n",
       "<table border=\"1\" class=\"dataframe\">\n",
       "  <thead>\n",
       "    <tr style=\"text-align: right;\">\n",
       "      <th></th>\n",
       "      <th>document</th>\n",
       "      <th>valid</th>\n",
       "      <th>left context</th>\n",
       "      <th>quantity</th>\n",
       "      <th>right context</th>\n",
       "      <th>snippet</th>\n",
       "    </tr>\n",
       "  </thead>\n",
       "  <tbody>\n",
       "    <tr>\n",
       "      <th>1</th>\n",
       "      <td>052516_Smell Em Whos Boss_Old Spice RFP.pdf</td>\n",
       "      <td></td>\n",
       "      <td>measure of success included •   We plan to ha...</td>\n",
       "      <td>100K</td>\n",
       "      <td>product sample sizes to distribute and are lo...</td>\n",
       "      <td>THE ASSIGNMENT On July 11th, Old Spice will be...</td>\n",
       "    </tr>\n",
       "    <tr>\n",
       "      <th>2</th>\n",
       "      <td>052516_Smell Em Whos Boss_Old Spice RFP.pdf</td>\n",
       "      <td></td>\n",
       "      <td>High SOV on all recommended placements (i.e....</td>\n",
       "      <td>20%</td>\n",
       "      <td>) •   We will be tracking viewability and aim ...</td>\n",
       "      <td>THE ASSIGNMENT On July 11th, Old Spice will be...</td>\n",
       "    </tr>\n",
       "    <tr>\n",
       "      <th>3</th>\n",
       "      <td>052516_Smell Em Whos Boss_Old Spice RFP.pdf</td>\n",
       "      <td></td>\n",
       "      <td>ng video presence - plans should include at le...</td>\n",
       "      <td>80%</td>\n",
       "      <td>of budget against video inventory. Mobile vid...</td>\n",
       "      <td>THE ASSIGNMENT On July 11th, Old Spice will be...</td>\n",
       "    </tr>\n",
       "    <tr>\n",
       "      <th>4</th>\n",
       "      <td>2016 Glenmorangie Digital RFP_FINAL.docx</td>\n",
       "      <td></td>\n",
       "      <td>Jersey 6% (201), Massachusetts 6% (261), Flor...</td>\n",
       "      <td>6%</td>\n",
       "      <td>(84) Attitude/Interest Business / finance, co...</td>\n",
       "      <td>About the Brand Glenmorangie is a highland sin...</td>\n",
       "    </tr>\n",
       "    <tr>\n",
       "      <th>5</th>\n",
       "      <td>2016 Glenmorangie Digital RFP_FINAL.docx</td>\n",
       "      <td></td>\n",
       "      <td>20% (121), 40-49 24% (128), 50-59 17% (98) - ...</td>\n",
       "      <td>75K</td>\n",
       "      <td>+ (average $145K) - Caucasian significantly ov...</td>\n",
       "      <td>About the Brand Glenmorangie is a highland sin...</td>\n",
       "    </tr>\n",
       "    <tr>\n",
       "      <th>6</th>\n",
       "      <td>2016 Glenmorangie Digital RFP_FINAL.docx</td>\n",
       "      <td></td>\n",
       "      <td>an &amp; suburban centers California 14% (118), Te...</td>\n",
       "      <td>9%</td>\n",
       "      <td>(120), New York 7% (109), New Jersey 6% (201)...</td>\n",
       "      <td>About the Brand Glenmorangie is a highland sin...</td>\n",
       "    </tr>\n",
       "    <tr>\n",
       "      <th>7</th>\n",
       "      <td>2016 Glenmorangie Digital RFP_FINAL.docx</td>\n",
       "      <td></td>\n",
       "      <td>itioning/creative idea has been expressed in p...</td>\n",
       "      <td>four years</td>\n",
       "      <td>through our print, TV, and more recently, dig...</td>\n",
       "      <td>About the Brand Glenmorangie is a highland sin...</td>\n",
       "    </tr>\n",
       "    <tr>\n",
       "      <th>8</th>\n",
       "      <td>2016 Glenmorangie Digital RFP_FINAL.docx</td>\n",
       "      <td></td>\n",
       "      <td>at least 50% of the ad was viewable for at le...</td>\n",
       "      <td>one second</td>\n",
       "      <td>CTR Blocking percentage Completion Rate (vide...</td>\n",
       "      <td>About the Brand Glenmorangie is a highland sin...</td>\n",
       "    </tr>\n",
       "    <tr>\n",
       "      <th>9</th>\n",
       "      <td>2016 Glenmorangie Digital RFP_FINAL.docx</td>\n",
       "      <td></td>\n",
       "      <td>are new to the category, have a younger profil...</td>\n",
       "      <td>35 years</td>\n",
       "      <td>old). Malt whisky is one of the tools used to...</td>\n",
       "      <td>About the Brand Glenmorangie is a highland sin...</td>\n",
       "    </tr>\n",
       "    <tr>\n",
       "      <th>10</th>\n",
       "      <td>2016 Glenmorangie Digital RFP_FINAL.docx</td>\n",
       "      <td></td>\n",
       "      <td>f the perfect finishes, off-premise activation...</td>\n",
       "      <td>2 hour</td>\n",
       "      <td>media appearance (still TBD) as well as 10 so...</td>\n",
       "      <td>About the Brand Glenmorangie is a highland sin...</td>\n",
       "    </tr>\n",
       "  </tbody>\n",
       "</table>\n",
       "</div>"
      ],
      "text/plain": [
       "                                       document valid  \\\n",
       "1   052516_Smell Em Whos Boss_Old Spice RFP.pdf         \n",
       "2   052516_Smell Em Whos Boss_Old Spice RFP.pdf         \n",
       "3   052516_Smell Em Whos Boss_Old Spice RFP.pdf         \n",
       "4      2016 Glenmorangie Digital RFP_FINAL.docx         \n",
       "5      2016 Glenmorangie Digital RFP_FINAL.docx         \n",
       "6      2016 Glenmorangie Digital RFP_FINAL.docx         \n",
       "7      2016 Glenmorangie Digital RFP_FINAL.docx         \n",
       "8      2016 Glenmorangie Digital RFP_FINAL.docx         \n",
       "9      2016 Glenmorangie Digital RFP_FINAL.docx         \n",
       "10     2016 Glenmorangie Digital RFP_FINAL.docx         \n",
       "\n",
       "                                         left context    quantity  \\\n",
       "1    measure of success included •   We plan to ha...        100K   \n",
       "2     High SOV on all recommended placements (i.e....         20%   \n",
       "3   ng video presence - plans should include at le...         80%   \n",
       "4    Jersey 6% (201), Massachusetts 6% (261), Flor...          6%   \n",
       "5    20% (121), 40-49 24% (128), 50-59 17% (98) - ...         75K   \n",
       "6   an & suburban centers California 14% (118), Te...          9%   \n",
       "7   itioning/creative idea has been expressed in p...  four years   \n",
       "8    at least 50% of the ad was viewable for at le...  one second   \n",
       "9   are new to the category, have a younger profil...    35 years   \n",
       "10  f the perfect finishes, off-premise activation...      2 hour   \n",
       "\n",
       "                                        right context  \\\n",
       "1    product sample sizes to distribute and are lo...   \n",
       "2   ) •   We will be tracking viewability and aim ...   \n",
       "3    of budget against video inventory. Mobile vid...   \n",
       "4    (84) Attitude/Interest Business / finance, co...   \n",
       "5   + (average $145K) - Caucasian significantly ov...   \n",
       "6    (120), New York 7% (109), New Jersey 6% (201)...   \n",
       "7    through our print, TV, and more recently, dig...   \n",
       "8    CTR Blocking percentage Completion Rate (vide...   \n",
       "9    old). Malt whisky is one of the tools used to...   \n",
       "10   media appearance (still TBD) as well as 10 so...   \n",
       "\n",
       "                                              snippet  \n",
       "1   THE ASSIGNMENT On July 11th, Old Spice will be...  \n",
       "2   THE ASSIGNMENT On July 11th, Old Spice will be...  \n",
       "3   THE ASSIGNMENT On July 11th, Old Spice will be...  \n",
       "4   About the Brand Glenmorangie is a highland sin...  \n",
       "5   About the Brand Glenmorangie is a highland sin...  \n",
       "6   About the Brand Glenmorangie is a highland sin...  \n",
       "7   About the Brand Glenmorangie is a highland sin...  \n",
       "8   About the Brand Glenmorangie is a highland sin...  \n",
       "9   About the Brand Glenmorangie is a highland sin...  \n",
       "10  About the Brand Glenmorangie is a highland sin...  "
      ]
     },
     "execution_count": 36,
     "metadata": {},
     "output_type": "execute_result"
    }
   ],
   "source": [
    "table.head(10)"
   ]
  },
  {
   "cell_type": "code",
   "execution_count": null,
   "metadata": {
    "collapsed": true
   },
   "outputs": [],
   "source": []
  }
 ],
 "metadata": {
  "kernelspec": {
   "display_name": "Python [anaconda34]",
   "language": "python",
   "name": "Python [anaconda34]"
  },
  "language_info": {
   "codemirror_mode": {
    "name": "ipython",
    "version": 3
   },
   "file_extension": ".py",
   "mimetype": "text/x-python",
   "name": "python",
   "nbconvert_exporter": "python",
   "pygments_lexer": "ipython3",
   "version": "3.4.5"
  }
 },
 "nbformat": 4,
 "nbformat_minor": 0
}
